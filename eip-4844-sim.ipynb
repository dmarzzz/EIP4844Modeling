{
 "cells": [
  {
   "cell_type": "markdown",
   "metadata": {
    "tags": []
   },
   "source": [
    "# EIP-4844 Fee Market Analysis: Simulation and Backtest"
   ]
  },
  {
   "cell_type": "markdown",
   "metadata": {
    "tags": []
   },
   "source": [
    "## Description"
   ]
  },
  {
   "cell_type": "markdown",
   "metadata": {
    "tags": []
   },
   "source": [
    "Proto-danksharding or [EIP-4844](https://eips.ethereum.org/EIPS/eip-4844) introduces a new transaction format for “blob-carrying transactions” which contain a large amount of data that cannot be accessed by EVM execution, but whose commitment can be accessed. The goal is to facilitate an ecosystem-wide move to rollups: Optimism and Arbitrum provide fees that are ~3-8x lower than the Ethereum base layer, and ZK rollups, which have better data compression and can avoid including signatures, have fees ~40-100x lower than the base layer.\n",
    "\n",
    "The long-term scaling solution is still data sharding: add ~16 MB per block of dedicated data space to the chain that rollups could use. This EIP is an intermediate step which implements (1) same transaction format as sharding and (2) creates the gas fee market for this type of transactions, but has the following differences:\n",
    "\n",
    "- No sharding of transactions: the data from blob transactions is fully downloaded by all consensus nodes (but can be deleted after only a relatively short delay)\n",
    "\n",
    "- Reduced cap on the number of these transactions that can be included: target of ~0.25 MB per block and limit of ~0.5 MB\n",
    "\n",
    "## Data Gas Fee Market\n",
    "\n",
    "Data gas is introduced as a new type of gas that is only used to price blob transactions. It is independent of normal gas and follows its own targeting rule. The new pricing rule requires the `excess_data_gas` header field. The actual `data_fee` as calculated via `calc_data_fee` (see below) is deducted from the sender balance before transaction execution and burned, and is not refunded in case of transaction failure.\n",
    "\n",
    "The data gasprice update rule approximates the formula\n",
    "\n",
    "`data_gasprice = MIN_DATA_GASPRICE * e**(excess_data_gas / DATA_GASPRICE_UPDATE_FRACTION)`,\n",
    "\n",
    "where `excess_data_gas` is the total “extra” amount of data gas that the chain has consumed relative to the “targeted” amount to date. Like EIP-1559, it’s a self-correcting formula: as the excess goes higher, the `data_gasprice` increases exponentially, reducing usage and eventually forcing the excess back down.\n",
    "\n",
    "The block-by-block behavior is roughly as follows. If block `N` consumes `X` data gas, then in block `N+1` `excess_data_gas` increases by `X - TARGET_DATA_GAS_PER_BLOCK`, and so the `data_gasprice` of block `N+1` increases by a factor of \n",
    "\n",
    "`e**((X - TARGET_DATA_GAS_PER_BLOCK) / DATA_GASPRICE_UPDATE_FRACTION)`. \n",
    "\n",
    "Hence, it has a similar effect to the existing EIP-1559, but is more “stable” in the sense that it responds in the same way to the same total usage regardless of how it’s distributed.\n",
    "\n",
    "The parameter `DATA_GASPRICE_UPDATE_FRACTION` controls the maximum rate of change of the blob gas price. It is chosen to target a maximum change rate of `e(TARGET_DATA_GAS_PER_BLOCK / DATA_GASPRICE_UPDATE_FRACTION) ≈ 1.125` per block."
   ]
  },
  {
   "cell_type": "markdown",
   "metadata": {},
   "source": [
    "## Setup"
   ]
  },
  {
   "cell_type": "markdown",
   "metadata": {},
   "source": [
    "`Transaction` class:\n",
    "\n",
    "- `max_fee_per_gas`: the max price that user is willing to pay.\n",
    "- `max_priority_fee_per_gas`: the tip to the block producers.\n",
    "- `gas_used`: gas resource required to execute transaction.\n",
    "\n",
    "`BlobTransaction(Transaction)` class:\n",
    "\n",
    "- `max_fee_per_data_gas`: the max data gasprice that user is willing to pay.\n",
    "- `blob_hashes`: number of blobs included in transaction.\n",
    "\n",
    "\n",
    "`generate_demand` function: generates demand for transactions. This is defined in each simulation instance as assumptions change.\n",
    "\n",
    "`update_price` function: calculate resource prices using EIP-1559 formula according do deviation vs sustainable _resource target_: `new_price = price * (1 + ((utilized - target) / target) / 8)`.\n",
    "\n",
    "`update_excess_data_gas` function: the excess data gas consumed (above the sustainable target) is computed according to the gas accounting formulas for blobs specified in the EIP.\n",
    "\n",
    "`build_block` function: selects transactions, steps (1) filter out invalid txns for which gahimit is not enough and (2) build block respecting _resource limits_. Greedy block building logic where builder sorts by total gas premium and then selects transactions up to resource limit."
   ]
  },
  {
   "cell_type": "code",
   "execution_count": 6,
   "metadata": {},
   "outputs": [],
   "source": [
    "import secrets\n",
    "import pandas as pd\n",
    "import numpy as np\n",
    "import seaborn as sns\n",
    "import matplotlib.pyplot as plt\n",
    "\n",
    "from radcad import Model, Simulation, Experiment\n",
    "from radcad.engine import Engine, Backend\n",
    "from random import randint, uniform\n",
    "\n",
    "sns.set(style=\"whitegrid\")"
   ]
  },
  {
   "cell_type": "code",
   "execution_count": null,
   "metadata": {
    "tags": []
   },
   "outputs": [],
   "source": [
    "constants = {\n",
    "    # 1559 fee mechanism params \n",
    "    \"BLOCK_RESOURCE_LIMITS\": 30e6,\n",
    "    \"BLOCK_RESOURCE_TARGETS\": 15e6,\n",
    "    \"BASEFEE_MAX_CHANGE_DENOMINATOR\": 8,\n",
    "    \n",
    "    # 4844 fee mechanism params\n",
    "    \"MAX_DATA_GAS_PER_BLOCK\": 2**19,\n",
    "    \"TARGET_DATA_GAS_PER_BLOCK\": 2**18,\n",
    "    \"DATA_GAS_PER_BLOB\": 2**17,\n",
    "    \"MIN_DATA_GASPRICE\": 1,\n",
    "    \"DATA_GASPRICE_UPDATE_FRACTION\": 2225652,\n",
    "}"
   ]
  },
  {
   "cell_type": "code",
   "execution_count": null,
   "metadata": {},
   "outputs": [],
   "source": [
    "# helper function approximating exponential with taylor\n",
    "def fake_exponential(factor: int, numerator: int, denominator: int) -> int:\n",
    "    i = 1\n",
    "    output = 0\n",
    "    numerator_accum = factor * denominator\n",
    "    while numerator_accum > 0:\n",
    "        output += numerator_accum\n",
    "        numerator_accum = (numerator_accum * numerator) // (denominator * i)\n",
    "        i += 1\n",
    "    return output // denominator\n",
    "\n",
    "def calc_price_data(excess_data_gas) -> int:\n",
    "    return fake_exponential(\n",
    "        constants[\"MIN_DATA_GASPRICE\"],\n",
    "        excess_data_gas,\n",
    "        constants[\"DATA_GASPRICE_UPDATE_FRACTION\"]\n",
    "    )"
   ]
  },
  {
   "cell_type": "code",
   "execution_count": null,
   "metadata": {},
   "outputs": [],
   "source": [
    "class Transaction:\n",
    "    def __init__(self, max_priority_fee_per_gas, gas_used, max_fee_per_gas):\n",
    "        self.tx_hash = secrets.token_bytes(6).hex()\n",
    "        self.max_fee_per_gas = max_fee_per_gas\n",
    "        self.max_priority_fee_per_gas = max_priority_fee_per_gas\n",
    "        self.gas_used = gas_used\n",
    "\n",
    "    def is_valid(self, price, price_data):\n",
    "        return self.max_fee_per_gas >= price\n",
    "    \n",
    "    def get_premium(self, price):\n",
    "        priority_fee = min(self.max_fee_per_gas - price, self.max_priority_fee_per_gas)\n",
    "        return self.gas_used * priority_fee\n",
    "\n",
    "class BlobTransaction(Transaction):\n",
    "    def __init__(self, max_priority_fee_per_gas, gas_used, max_fee_per_gas, max_fee_per_data_gas, blob_hashes):\n",
    "        super().__init__(max_priority_fee_per_gas, gas_used, max_fee_per_gas)\n",
    "        self.max_fee_per_data_gas = max_fee_per_data_gas\n",
    "        self.blob_hashes = blob_hashes\n",
    "    \n",
    "    def is_valid(self, price, price_data):\n",
    "        return self.max_fee_per_gas >= price and self.max_fee_per_data_gas >= price_data\n",
    "\n",
    "class Block():\n",
    "    def __init__(self, txs):\n",
    "        self.txs = txs"
   ]
  },
  {
   "cell_type": "code",
   "execution_count": null,
   "metadata": {},
   "outputs": [],
   "source": [
    "# 1559 fee mechanism\n",
    "def update_price(params, step, h, s, _input):\n",
    "    block = _input[\"block\"]\n",
    "    price = s[\"price\"]\n",
    "    \n",
    "    target = constants[\"BLOCK_RESOURCE_TARGETS\"]\n",
    "    utilized = sum([tx.gas_used for tx in block.txs]) \n",
    "    new_price = price * (1 + (utilized - target) / (target * constants[\"BASEFEE_MAX_CHANGE_DENOMINATOR\"]))\n",
    "    \n",
    "    return (\"price\", new_price)"
   ]
  },
  {
   "cell_type": "code",
   "execution_count": null,
   "metadata": {},
   "outputs": [],
   "source": [
    "# 4844 fee mechanism\n",
    "def update_excess_data_gas(params, step, h, s, _input):\n",
    "    block = _input[\"block\"]\n",
    "    excess_data_gas = s[\"excess_data_gas\"]\n",
    "    \n",
    "    target = constants[\"TARGET_DATA_GAS_PER_BLOCK\"]\n",
    "    utilized = constants[\"DATA_GAS_PER_BLOB\"] * sum([tx.blob_hashes if isinstance(tx, BlobTransaction) else 0 for tx in block.txs]) \n",
    "    new_excess_data_gas = max(excess_data_gas + (utilized - target), 0)\n",
    "\n",
    "    return (\"excess_data_gas\", new_excess_data_gas)"
   ]
  },
  {
   "cell_type": "code",
   "execution_count": null,
   "metadata": {},
   "outputs": [],
   "source": [
    "def build_block(params, step, h, s):\n",
    "    demand = s[\"demand\"]\n",
    "    price = s[\"price\"]\n",
    "    excess_data_gas = s[\"excess_data_gas\"]\n",
    "    price_data = calc_price_data(excess_data_gas)\n",
    "    \n",
    "    # select valid transactions and sort them by total gas premium\n",
    "    # for BlobTransaction we check validity against price_data too\n",
    "    sorted_valid_demand = sorted(\n",
    "        [tx for tx_hash, tx in demand.items() if tx.is_valid(price, price_data)],\n",
    "        key = lambda tx: -tx.get_premium(price)\n",
    "    )\n",
    "    \n",
    "    gas_limit = constants[\"BLOCK_RESOURCE_LIMITS\"]\n",
    "    data_limit = constants[\"MAX_DATA_GAS_PER_BLOCK\"]\n",
    "    included_transactions = []\n",
    "    utilized = 0\n",
    "    utilized_data = 0\n",
    "    for tx in sorted_valid_demand:\n",
    "        if utilized<=gas_limit:\n",
    "            if isinstance(tx, BlobTransaction) and utilized_data<=data_limit:\n",
    "                included_transactions.append(tx)\n",
    "                utilized += tx.gas_used\n",
    "                utilized_data += tx.blob_hashes * constants[\"DATA_GAS_PER_BLOB\"]\n",
    "            elif isinstance(tx, BlobTransaction) and utilized_data>data_limit:\n",
    "                continue\n",
    "            else:\n",
    "                included_transactions.append(tx)\n",
    "                utilized += tx.gas_used\n",
    "        else:\n",
    "            break\n",
    "\n",
    "    return ({\"block\": Block(txs=included_transactions)})\n",
    "\n",
    "\n",
    "def record_latest_block(params, step, h, s, _input):\n",
    "    block = _input[\"block\"]\n",
    "    return (\"latest_block\", block)"
   ]
  },
  {
   "cell_type": "markdown",
   "metadata": {},
   "source": [
    "# Simulations"
   ]
  },
  {
   "cell_type": "markdown",
   "metadata": {
    "tags": []
   },
   "source": [
    "## Basic Case"
   ]
  },
  {
   "cell_type": "code",
   "execution_count": null,
   "metadata": {},
   "outputs": [],
   "source": [
    "def generate_demand(params, step, h, s, _input):\n",
    "\n",
    "    demand = {}  \n",
    "    for i in range(1000):\n",
    "        tx = Transaction(\n",
    "            gas_used = 50000,\n",
    "            max_fee_per_gas = 100*uniform(0.75,1.25),\n",
    "            max_priority_fee_per_gas = uniform(1, 10), # ~1/10 of max fee to represent builder \"cost\"\n",
    "        )\n",
    "        demand[tx.tx_hash] = tx\n",
    "\n",
    "    for i in range(10):\n",
    "        tx = BlobTransaction(\n",
    "            gas_used = 50000,\n",
    "            max_fee_per_gas = 150*uniform(0.75,1.25),\n",
    "            max_priority_fee_per_gas = uniform(1, 10),\n",
    "            max_fee_per_data_gas = 50*uniform(0.75,1.25),\n",
    "            blob_hashes = 2\n",
    "        )\n",
    "        demand[tx.tx_hash] = tx\n",
    "\n",
    "    return (\"demand\", demand)"
   ]
  },
  {
   "cell_type": "code",
   "execution_count": 2,
   "metadata": {},
   "outputs": [
    {
     "ename": "NameError",
     "evalue": "name 'generate_demand' is not defined",
     "output_type": "error",
     "traceback": [
      "\u001b[0;31m---------------------------------------------------------------------------\u001b[0m",
      "\u001b[0;31mNameError\u001b[0m                                 Traceback (most recent call last)",
      "Cell \u001b[0;32mIn[2], line 4\u001b[0m\n\u001b[1;32m      1\u001b[0m psub \u001b[39m=\u001b[39m [{\n\u001b[1;32m      2\u001b[0m     \u001b[39m\"\u001b[39m\u001b[39mpolicies\u001b[39m\u001b[39m\"\u001b[39m: {},\n\u001b[1;32m      3\u001b[0m     \u001b[39m\"\u001b[39m\u001b[39mvariables\u001b[39m\u001b[39m\"\u001b[39m: {\n\u001b[0;32m----> 4\u001b[0m         \u001b[39m\"\u001b[39m\u001b[39mdemand\u001b[39m\u001b[39m\"\u001b[39m: generate_demand\n\u001b[1;32m      5\u001b[0m     }\n\u001b[1;32m      6\u001b[0m }, {\n\u001b[1;32m      7\u001b[0m     \u001b[39m\"\u001b[39m\u001b[39mpolicies\u001b[39m\u001b[39m\"\u001b[39m: {\n\u001b[1;32m      8\u001b[0m         \u001b[39m\"\u001b[39m\u001b[39maction\u001b[39m\u001b[39m\"\u001b[39m: build_block\n\u001b[1;32m      9\u001b[0m     },\n\u001b[1;32m     10\u001b[0m     \u001b[39m\"\u001b[39m\u001b[39mvariables\u001b[39m\u001b[39m\"\u001b[39m: {\n\u001b[1;32m     11\u001b[0m         \u001b[39m\"\u001b[39m\u001b[39mexcess_data_gas\u001b[39m\u001b[39m\"\u001b[39m: update_excess_data_gas,\n\u001b[1;32m     12\u001b[0m         \u001b[39m\"\u001b[39m\u001b[39mprice\u001b[39m\u001b[39m\"\u001b[39m: update_price,\n\u001b[1;32m     13\u001b[0m         \u001b[39m\"\u001b[39m\u001b[39mlatest_block\u001b[39m\u001b[39m\"\u001b[39m: record_latest_block,\n\u001b[1;32m     14\u001b[0m     }\n\u001b[1;32m     15\u001b[0m }]\n\u001b[1;32m     17\u001b[0m initial_conditions \u001b[39m=\u001b[39m {\n\u001b[1;32m     18\u001b[0m     \u001b[39m\"\u001b[39m\u001b[39mprice\u001b[39m\u001b[39m\"\u001b[39m: \u001b[39m1\u001b[39m,\n\u001b[1;32m     19\u001b[0m     \u001b[39m\"\u001b[39m\u001b[39mexcess_data_gas\u001b[39m\u001b[39m\"\u001b[39m: \u001b[39m0\u001b[39m,\n\u001b[1;32m     20\u001b[0m     \u001b[39m\"\u001b[39m\u001b[39mdemand\u001b[39m\u001b[39m\"\u001b[39m: {},\n\u001b[1;32m     21\u001b[0m     \u001b[39m\"\u001b[39m\u001b[39mlatest_block\u001b[39m\u001b[39m\"\u001b[39m: Block(txs\u001b[39m=\u001b[39m[])\n\u001b[1;32m     22\u001b[0m }\n\u001b[1;32m     24\u001b[0m simulation_parameters \u001b[39m=\u001b[39m {\n\u001b[1;32m     25\u001b[0m     \u001b[39m'\u001b[39m\u001b[39mT\u001b[39m\u001b[39m'\u001b[39m: \u001b[39m100\u001b[39m,\n\u001b[1;32m     26\u001b[0m     \u001b[39m'\u001b[39m\u001b[39mN\u001b[39m\u001b[39m'\u001b[39m: \u001b[39m1\u001b[39m,\n\u001b[1;32m     27\u001b[0m     \u001b[39m'\u001b[39m\u001b[39mM\u001b[39m\u001b[39m'\u001b[39m: {}\n\u001b[1;32m     28\u001b[0m }\n",
      "\u001b[0;31mNameError\u001b[0m: name 'generate_demand' is not defined"
     ]
    }
   ],
   "source": [
    "%%capture\n",
    "\n",
    "psub = [{\n",
    "    \"policies\": {},\n",
    "    \"variables\": {\n",
    "        \"demand\": generate_demand\n",
    "    }\n",
    "}, {\n",
    "    \"policies\": {\n",
    "        \"action\": build_block\n",
    "    },\n",
    "    \"variables\": {\n",
    "        \"excess_data_gas\": update_excess_data_gas,\n",
    "        \"price\": update_price,\n",
    "        \"latest_block\": record_latest_block,\n",
    "    }\n",
    "}]\n",
    "\n",
    "initial_conditions = {\n",
    "    \"price\": 1,\n",
    "    \"excess_data_gas\": 0,\n",
    "    \"demand\": {},\n",
    "    \"latest_block\": Block(txs=[])\n",
    "}\n",
    "\n",
    "simulation_parameters = {\n",
    "    'T': 100,\n",
    "    'N': 1,\n",
    "    'M': {}\n",
    "}\n",
    "\n",
    "model = Model(\n",
    "    initial_state=initial_conditions,\n",
    "    state_update_blocks=psub,\n",
    "    params=simulation_parameters\n",
    ")\n",
    "\n",
    "simulation = Simulation(\n",
    "    model=model,\n",
    "    timesteps=simulation_parameters['T'],\n",
    "    runs=simulation_parameters['N']\n",
    ")\n",
    "\n",
    "experiment = Experiment(simulations=[simulation])\n",
    "experiment.engine=Engine(backend=Backend.PATHOS, drop_substeps=True, deepcopy=False)\n",
    "res = experiment.run()\n",
    "df = pd.DataFrame()"
   ]
  },
  {
   "cell_type": "code",
   "execution_count": null,
   "metadata": {},
   "outputs": [],
   "source": [
    "df"
   ]
  },
  {
   "cell_type": "code",
   "execution_count": null,
   "metadata": {},
   "outputs": [],
   "source": [
    "df[df.substep == 2].plot('timestep', ['price'])"
   ]
  },
  {
   "cell_type": "code",
   "execution_count": null,
   "metadata": {},
   "outputs": [],
   "source": [
    "df[df.substep == 2].plot('timestep', ['excess_data_gas'])"
   ]
  },
  {
   "cell_type": "code",
   "execution_count": null,
   "metadata": {},
   "outputs": [],
   "source": [
    "df['price_data'] = df['excess_data_gas'].apply(lambda x: calc_price_data(x))\n",
    "df[df.substep == 2].plot('timestep', ['price', 'price_data'])"
   ]
  },
  {
   "cell_type": "markdown",
   "metadata": {},
   "source": [
    "# Backtest switching to blob txs"
   ]
  },
  {
   "cell_type": "markdown",
   "metadata": {},
   "source": [
    "We now do a backtest considering the 98%+ percent of the current batch-data load that is given by Arbitrum and Optimism. We chose the day with the highest batch-data load in the first two months of 2023, February 24th.\n",
    "\n",
    "- Arbitrum posted 1055 consistent batches of ~99kb (600b stdev) every 6.78 blocks on avg, for a total of ~100mb/day\n",
    "- Optimism posted 2981 variable batches of avg ~31kb (19kb stdev) every 2.37 blocks on avg, for a total of ~93mb/day\n",
    "\n",
    "Note that all gas accounting in 4844 is done using blobs and their fixed capacity size of 2**17b (~125kb).\n",
    "\n",
    "**Case 1** considers a scenario with a data load which is slightly higher (1.5x) than the historical data from the peak day considered. For convenience, we assume that L2s do not optimize their batch sizes (okay for ARB but suboptimal for OP) which results in a likely overestimation of the blobs demand. Results show that this load is not enough to start moving the data price.\n",
    "\n",
    "**Case 2** consider the case in which data load is inflated by roughly 10x, a value that is just enough to kickstart the data price discovery process.\n",
    "\n",
    "We start with loading historical data (for original query and more stats for this data check out the data-processing-utils notebook in the same folder)."
   ]
  },
  {
   "cell_type": "code",
   "execution_count": null,
   "metadata": {},
   "outputs": [],
   "source": [
    "demand_input = pd.read_csv('4844-sample.csv', index_col=False)\n",
    "demand_input.head()"
   ]
  },
  {
   "cell_type": "markdown",
   "metadata": {
    "tags": []
   },
   "source": [
    "## Case 1: historical demand x1.5"
   ]
  },
  {
   "cell_type": "code",
   "execution_count": null,
   "metadata": {},
   "outputs": [],
   "source": [
    "def generate_demand_from_data(params, step, h, s, _input):\n",
    "\n",
    "    di = demand_input[demand_input['block_number']==(min(demand_input['block_number'])+len(h))].to_dict('index')\n",
    "\n",
    "    demand = {}\n",
    "    for key, val in di.items():\n",
    "        if val['data_tag']=='other':\n",
    "            tx = Transaction(\n",
    "                gas_used = val['gas_used'],\n",
    "                max_fee_per_gas = val['max_fee'],\n",
    "                max_priority_fee_per_gas = val['max_priority_fee'],\n",
    "            )\n",
    "        else:\n",
    "            tx = BlobTransaction(\n",
    "                gas_used = 50000,\n",
    "                max_fee_per_gas = val['max_fee'],\n",
    "                max_priority_fee_per_gas = val['max_priority_fee'],\n",
    "                max_fee_per_data_gas = 50e9,\n",
    "                blob_hashes = 1\n",
    "            )\n",
    "        demand[tx.tx_hash] = tx\n",
    "\n",
    "    return (\"demand\", demand)\n",
    "\n",
    "\n",
    "def build_block_from_data(params, step, h, s):\n",
    "    demand = s[\"demand\"]\n",
    "    price = s[\"price\"]\n",
    "    excess_data_gas = s[\"excess_data_gas\"]\n",
    "    price_data = calc_price_data(excess_data_gas)\n",
    "    \n",
    "    # REMOVE selection, include everything for now\n",
    "    sorted_valid_demand = [tx for tx_hash, tx in demand.items()]\n",
    "    \n",
    "    gas_limit = constants[\"BLOCK_RESOURCE_LIMITS\"]\n",
    "    data_limit = constants[\"MAX_DATA_GAS_PER_BLOCK\"]\n",
    "    included_transactions = []\n",
    "    utilized = 0\n",
    "    utilized_data = 0\n",
    "    for tx in sorted_valid_demand:\n",
    "        if utilized<=gas_limit:\n",
    "            if isinstance(tx, BlobTransaction) and utilized_data<=data_limit:\n",
    "                included_transactions.append(tx)\n",
    "                utilized += tx.gas_used\n",
    "                utilized_data += tx.blob_hashes * constants[\"DATA_GAS_PER_BLOB\"]\n",
    "            elif isinstance(tx, BlobTransaction) and utilized_data>data_limit:\n",
    "                continue\n",
    "            else:\n",
    "                included_transactions.append(tx)\n",
    "                utilized += tx.gas_used\n",
    "        else:\n",
    "            break\n",
    "\n",
    "    return ({\"block\": Block(txs=included_transactions)})"
   ]
  },
  {
   "cell_type": "code",
   "execution_count": null,
   "metadata": {},
   "outputs": [],
   "source": [
    "%%capture\n",
    "\n",
    "psub = [{\n",
    "    \"policies\": {},\n",
    "    \"variables\": {\n",
    "        \"demand\": generate_demand_from_data\n",
    "    }\n",
    "}, {\n",
    "    \"policies\": {\n",
    "        \"action\": build_block_from_data\n",
    "    },\n",
    "    \"variables\": {\n",
    "        \"excess_data_gas\": update_excess_data_gas,\n",
    "        \"price\": update_price,\n",
    "        \"latest_block\": record_latest_block,\n",
    "    }\n",
    "}]\n",
    "\n",
    "initial_conditions = {\n",
    "    \"price\": 28543674071,\n",
    "    \"excess_data_gas\": 0,\n",
    "    \"demand\": {},\n",
    "    \"latest_block\": Block(txs=[])\n",
    "}\n",
    "\n",
    "simulation_parameters = {\n",
    "    'T': 1600,\n",
    "    'N': 1,\n",
    "    'M': {}\n",
    "}\n",
    "\n",
    "model = Model(\n",
    "    initial_state=initial_conditions,\n",
    "    state_update_blocks=psub,\n",
    "    params=simulation_parameters\n",
    ")\n",
    "\n",
    "simulation = Simulation(\n",
    "    model=model,\n",
    "    timesteps=simulation_parameters['T'],\n",
    "    runs=simulation_parameters['N']\n",
    ")\n",
    "\n",
    "experiment = Experiment(simulations=[simulation])\n",
    "experiment.engine=Engine(backend=Backend.PATHOS, drop_substeps=True, deepcopy=False)\n",
    "df = pd.DataFrame(experiment.run())"
   ]
  },
  {
   "cell_type": "code",
   "execution_count": null,
   "metadata": {},
   "outputs": [],
   "source": [
    "df.tail(10)"
   ]
  },
  {
   "cell_type": "code",
   "execution_count": null,
   "metadata": {},
   "outputs": [],
   "source": [
    "df['price'].plot()"
   ]
  },
  {
   "cell_type": "code",
   "execution_count": null,
   "metadata": {},
   "outputs": [],
   "source": [
    "df['price_data'] = df['excess_data_gas'].apply(lambda x: calc_price_data(x))\n",
    "df[df.substep == 2].plot('timestep', ['price_data'])"
   ]
  },
  {
   "cell_type": "code",
   "execution_count": null,
   "metadata": {},
   "outputs": [],
   "source": [
    "demand_input[['block_number', 'base_fee']].groupby('block_number').min().head(1600).plot()"
   ]
  },
  {
   "cell_type": "markdown",
   "metadata": {},
   "source": [
    "Additional note: Comparing the gas price to the base fee from the original data we see that moving to batches to blobs as a deflationary effect on normal gas price (as expected)."
   ]
  },
  {
   "cell_type": "markdown",
   "metadata": {},
   "source": [
    "## Case 2: historical demand x3 + 4 blobs every 3 blocks = historical demand ~x10"
   ]
  },
  {
   "cell_type": "code",
   "execution_count": null,
   "metadata": {},
   "outputs": [],
   "source": [
    "def generate_demand_from_data(params, step, h, s, _input):\n",
    "\n",
    "    di = demand_input[demand_input['block_number']==(min(demand_input['block_number'])+len(h))].to_dict('index')\n",
    "    \n",
    "    demand = {}\n",
    "    for key, val in di.items():\n",
    "        if val['data_tag']=='other':\n",
    "            tx = Transaction(\n",
    "                gas_used = val['gas_used'],\n",
    "                max_fee_per_gas = val['max_fee'],\n",
    "                max_priority_fee_per_gas = val['max_priority_fee'],\n",
    "            )\n",
    "        else:\n",
    "            tx = BlobTransaction(\n",
    "                gas_used = 50000,\n",
    "                max_fee_per_gas = val['max_fee'],\n",
    "                max_priority_fee_per_gas = val['max_priority_fee'],\n",
    "                max_fee_per_data_gas = 50e9*uniform(0.75,1.25),\n",
    "                blob_hashes = 2\n",
    "            )\n",
    "        demand[tx.tx_hash] = tx\n",
    "    \n",
    "    if (len(h) % 3)==0:\n",
    "        for i in range(2):\n",
    "            tx = BlobTransaction(\n",
    "                gas_used = 50000,\n",
    "                max_fee_per_gas = 150e9*uniform(0.75,1.25),\n",
    "                max_priority_fee_per_gas = 1e9*uniform(1, 10),\n",
    "                max_fee_per_data_gas = 50e9*uniform(0.75,1.25),\n",
    "                blob_hashes = 2\n",
    "            )\n",
    "            demand[tx.tx_hash] = tx\n",
    "\n",
    "    return (\"demand\", demand)\n",
    "\n",
    "\n",
    "def build_block_from_data(params, step, h, s):\n",
    "    demand = s[\"demand\"]\n",
    "    price = s[\"price\"]\n",
    "    excess_data_gas = s[\"excess_data_gas\"]\n",
    "    price_data = calc_price_data(excess_data_gas)\n",
    "\n",
    "    # select valid transactions and sort them by total gas premium\n",
    "    # for BlobTransaction we check validity against price_data too\n",
    "    sorted_valid_demand = sorted(\n",
    "        [tx for tx_hash, tx in demand.items() if tx.is_valid(price, price_data)],\n",
    "        key = lambda tx: -tx.get_premium(price)\n",
    "    )\n",
    "    \n",
    "    gas_limit = constants[\"BLOCK_RESOURCE_LIMITS\"]\n",
    "    data_limit = constants[\"MAX_DATA_GAS_PER_BLOCK\"]\n",
    "    included_transactions = []\n",
    "    utilized = 0\n",
    "    utilized_data = 0\n",
    "    for tx in sorted_valid_demand:\n",
    "        if utilized<=gas_limit:\n",
    "            if isinstance(tx, BlobTransaction) and utilized_data<=data_limit:\n",
    "                included_transactions.append(tx)\n",
    "                utilized += tx.gas_used\n",
    "                utilized_data += tx.blob_hashes * constants[\"DATA_GAS_PER_BLOB\"]\n",
    "            elif isinstance(tx, BlobTransaction) and utilized_data>data_limit:\n",
    "                continue\n",
    "            else:\n",
    "                included_transactions.append(tx)\n",
    "                utilized += tx.gas_used\n",
    "        else:\n",
    "            break\n",
    "\n",
    "    return ({\"block\": Block(txs=included_transactions)})"
   ]
  },
  {
   "cell_type": "code",
   "execution_count": null,
   "metadata": {},
   "outputs": [],
   "source": [
    "%%capture\n",
    "\n",
    "psub = [{\n",
    "    \"policies\": {},\n",
    "    \"variables\": {\n",
    "        \"demand\": generate_demand_from_data\n",
    "    }\n",
    "}, {\n",
    "    \"policies\": {\n",
    "        \"action\": build_block_from_data\n",
    "    },\n",
    "    \"variables\": {\n",
    "        \"excess_data_gas\": update_excess_data_gas,\n",
    "        \"price\": update_price,\n",
    "        \"latest_block\": record_latest_block,\n",
    "    }\n",
    "}]\n",
    "\n",
    "initial_conditions = {\n",
    "    \"price\": 28543674071,\n",
    "    \"excess_data_gas\": 0,\n",
    "    \"demand\": {},\n",
    "    \"latest_block\": Block(txs=[])\n",
    "}\n",
    "\n",
    "simulation_parameters = {\n",
    "    'T': 1600,\n",
    "    'N': 1,\n",
    "    'M': {}\n",
    "}\n",
    "\n",
    "model = Model(\n",
    "    initial_state=initial_conditions,\n",
    "    state_update_blocks=psub,\n",
    "    params=simulation_parameters\n",
    ")\n",
    "\n",
    "simulation = Simulation(\n",
    "    model=model,\n",
    "    timesteps=simulation_parameters['T'],\n",
    "    runs=simulation_parameters['N']\n",
    ")\n",
    "\n",
    "experiment = Experiment(simulations=[simulation])\n",
    "experiment.engine=Engine(backend=Backend.PATHOS, drop_substeps=True, deepcopy=False)\n",
    "df = pd.DataFrame(experiment.run())"
   ]
  },
  {
   "cell_type": "code",
   "execution_count": null,
   "metadata": {},
   "outputs": [],
   "source": [
    "df.tail(10)"
   ]
  },
  {
   "cell_type": "code",
   "execution_count": null,
   "metadata": {},
   "outputs": [],
   "source": [
    "df[df.substep == 2].plot('timestep', ['price'])"
   ]
  },
  {
   "cell_type": "code",
   "execution_count": null,
   "metadata": {},
   "outputs": [],
   "source": [
    "df['price_data'] = df['excess_data_gas'].apply(lambda x: calc_price_data(x))\n",
    "df[df.substep == 2].plot('timestep', ['price_data'])"
   ]
  },
  {
   "cell_type": "markdown",
   "metadata": {},
   "source": [
    "## Resources\n",
    "\n",
    "- [Dune query for explorations](https://dune.com/queries/2173699?sidebar=query-explorer)\n",
    "- [Dan Boneh lecture on EVM resources](https://cs251.stanford.edu/lectures/lecture8.pdf)"
   ]
  },
  {
   "cell_type": "code",
   "execution_count": null,
   "metadata": {},
   "outputs": [],
   "source": []
  }
 ],
 "metadata": {
  "kernelspec": {
   "display_name": "Python 3 (ipykernel)",
   "language": "python",
   "name": "python3"
  },
  "language_info": {
   "codemirror_mode": {
    "name": "ipython",
    "version": 3
   },
   "file_extension": ".py",
   "mimetype": "text/x-python",
   "name": "python",
   "nbconvert_exporter": "python",
   "pygments_lexer": "ipython3",
   "version": "3.10.9"
  }
 },
 "nbformat": 4,
 "nbformat_minor": 4
}
