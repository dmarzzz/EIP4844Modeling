{
 "cells": [
  {
   "cell_type": "markdown",
   "metadata": {
    "id": "Lhuo3jp7SDy5"
   },
   "source": [
    "# Queries"
   ]
  },
  {
   "cell_type": "code",
   "execution_count": 1,
   "metadata": {
    "id": "FWzuMkqsSTZJ"
   },
   "outputs": [],
   "source": [
    "data_user_welfare_surplus = '''\n",
    "SELECT \n",
    "    block_number,\n",
    "    `hash`,\n",
    "    transaction_index as `index`,\n",
    "    gas as gas_limit,\n",
    "    gas_price,\n",
    "    receipt_gas_used as gas_used,\n",
    "    max_fee_per_gas,\n",
    "    max_priority_fee_per_gas,\n",
    "    MAX(gas_price-max_priority_fee_per_gas) OVER (PARTITION BY block_number) AS base_fee,\n",
    "    receipt_status as status,\n",
    "    transaction_type as type\n",
    "FROM `bigquery-public-data.crypto_ethereum.transactions`\n",
    "WHERE DATE(block_timestamp) = \"2023-01-01\"\n",
    "\n",
    "-- priority fee is to compute using basefee\n",
    "'''\n",
    "\n",
    "data_sim_4844 = '''\n",
    "SELECT\n",
    "    block_number,\n",
    "    `hash`,\n",
    "    transaction_index as `index`,\n",
    "    gas as gas_limit,\n",
    "    gas_price,\n",
    "    receipt_gas_used as gas_used,\n",
    "    max_fee_per_gas,\n",
    "    max_priority_fee_per_gas,\n",
    "    MAX(gas_price-max_priority_fee_per_gas) OVER (PARTITION BY block_number) AS base_fee,\n",
    "    receipt_status as status,\n",
    "    transaction_type as type,\n",
    "    CASE\n",
    "        WHEN (\n",
    "        from_address = \"0x6887246668a3b87f54deb3b94ba47a6f63f32985\" -- op sequencer address\n",
    "        AND to_address = \"0x5e4e65926ba27467555eb562121fac00d24e9dd2\" -- op CanonicalTransactionChain address\n",
    "        ) THEN \"op_data\"\n",
    "        WHEN (\n",
    "        from_address = \"0xc1b634853cb333d3ad8663715b08f41a3aec47cc\" -- arb batch submitter address\n",
    "        AND to_address = \"0x1c479675ad559dc151f6ec7ed3fbf8cee79582b6\" -- arb sequencer inbox\n",
    "        ) THEN \"arb_data\"\n",
    "        ELSE \"other\"\n",
    "    END AS data_tag,\n",
    "    (byte_length(input) / 2 - 1) AS data_bytes\n",
    "FROM `bigquery-public-data.crypto_ethereum.transactions`\n",
    "WHERE DATE(block_timestamp) = \"2023-02-24\"\n",
    "'''"
   ]
  },
  {
   "cell_type": "markdown",
   "metadata": {
    "id": "g4geO3FzSIie"
   },
   "source": [
    "# 4844 Data for Simulation"
   ]
  },
  {
   "cell_type": "code",
   "execution_count": 2,
   "metadata": {
    "colab": {
     "base_uri": "https://localhost:8080/",
     "height": 270
    },
    "id": "KxSqPfAeXW_K",
    "outputId": "282fd86c-33b0-4169-c47c-2853303759f8"
   },
   "outputs": [
    {
     "ename": "ModuleNotFoundError",
     "evalue": "No module named 'google'",
     "output_type": "error",
     "traceback": [
      "\u001b[0;31m---------------------------------------------------------------------------\u001b[0m",
      "\u001b[0;31mModuleNotFoundError\u001b[0m                       Traceback (most recent call last)",
      "\u001b[0;32m/var/folders/5l/g8f1jqrj3x9bh6jdj17fd__h0000gn/T/ipykernel_89689/2815068793.py\u001b[0m in \u001b[0;36m<module>\u001b[0;34m\u001b[0m\n\u001b[0;32m----> 1\u001b[0;31m \u001b[0;32mfrom\u001b[0m \u001b[0mgoogle\u001b[0m\u001b[0;34m.\u001b[0m\u001b[0mcolab\u001b[0m \u001b[0;32mimport\u001b[0m \u001b[0mauth\u001b[0m\u001b[0;34m\u001b[0m\u001b[0;34m\u001b[0m\u001b[0m\n\u001b[0m\u001b[1;32m      2\u001b[0m \u001b[0;32mfrom\u001b[0m \u001b[0mgoogle\u001b[0m\u001b[0;34m.\u001b[0m\u001b[0mcloud\u001b[0m \u001b[0;32mimport\u001b[0m \u001b[0mbigquery\u001b[0m\u001b[0;34m\u001b[0m\u001b[0;34m\u001b[0m\u001b[0m\n\u001b[1;32m      3\u001b[0m \u001b[0;34m\u001b[0m\u001b[0m\n\u001b[1;32m      4\u001b[0m \u001b[0mproject\u001b[0m \u001b[0;34m=\u001b[0m \u001b[0;34m'incrementai-proto'\u001b[0m\u001b[0;34m\u001b[0m\u001b[0;34m\u001b[0m\u001b[0m\n\u001b[1;32m      5\u001b[0m \u001b[0mlocation\u001b[0m \u001b[0;34m=\u001b[0m \u001b[0;34m'US'\u001b[0m\u001b[0;34m\u001b[0m\u001b[0;34m\u001b[0m\u001b[0m\n",
      "\u001b[0;31mModuleNotFoundError\u001b[0m: No module named 'google'"
     ]
    }
   ],
   "source": [
    "from google.colab import auth\n",
    "from google.cloud import bigquery\n",
    "\n",
    "project = 'incrementai-proto'\n",
    "location = 'US'\n",
    "client = bigquery.Client(project=project, location=location)\n",
    "auth.authenticate_user()\n",
    "\n",
    "job = client.get_job('bquxjob_6e2a1255_186de4908d7')\n",
    "\n",
    "df = job.to_dataframe()\n",
    "df.head()"
   ]
  },
  {
   "cell_type": "code",
   "execution_count": null,
   "metadata": {
    "id": "8kGQi8MoJmqD"
   },
   "outputs": [],
   "source": [
    "import pandas as pd\n",
    "import statistics as stats"
   ]
  },
  {
   "cell_type": "markdown",
   "metadata": {
    "id": "Ih_QgPNSU5BF"
   },
   "source": [
    "## Approx max_fee and priority_fee for type 1 txns"
   ]
  },
  {
   "cell_type": "code",
   "execution_count": null,
   "metadata": {
    "id": "kI-AQuHbHy-T"
   },
   "outputs": [],
   "source": [
    "bin_labels = range(1,9)\n",
    "df['gas_bucket'] = pd.qcut(df['gas_used'], q=10, labels=bin_labels, duplicates='drop')"
   ]
  },
  {
   "cell_type": "code",
   "execution_count": null,
   "metadata": {
    "colab": {
     "base_uri": "https://localhost:8080/",
     "height": 0
    },
    "id": "fFWBaCd9H_-L",
    "outputId": "f8f07127-58f0-4161-9f03-b1d7ffbc2318"
   },
   "outputs": [],
   "source": [
    "dfm = df[df.type==2][['block_number', 'gas_bucket', 'max_fee_per_gas', 'max_priority_fee_per_gas']].groupby(\n",
    "    ['block_number', 'gas_bucket']).apply(lambda x: pd.Series(dict(\n",
    "        max_fee_imputed = stats.median(x['max_fee_per_gas']),\n",
    "        max_priority_fee_imputed = stats.median(x['max_priority_fee_per_gas']),\n",
    "    ))).reset_index()\n",
    "dfm.tail(10)"
   ]
  },
  {
   "cell_type": "code",
   "execution_count": null,
   "metadata": {
    "colab": {
     "base_uri": "https://localhost:8080/",
     "height": 0
    },
    "id": "67HFDLokKQ78",
    "outputId": "31dac657-7f47-45d1-ab83-49130ca0c23d"
   },
   "outputs": [],
   "source": [
    "df = df.merge(dfm, on=['block_number', 'gas_bucket'], how='inner')\n",
    "df.head(10)"
   ]
  },
  {
   "cell_type": "code",
   "execution_count": null,
   "metadata": {
    "colab": {
     "base_uri": "https://localhost:8080/",
     "height": 0
    },
    "id": "SMDRThPfK5ka",
    "outputId": "6b36858a-080c-4ee6-8ff3-57aac7c9f8de"
   },
   "outputs": [],
   "source": [
    "df['max_fee'] = df.apply(lambda x: x['max_fee_per_gas'] if x['type']==2 else max(x['max_fee_imputed'], x['gas_price']), axis=1) # to avoid negative surplus take the max of imputed max fee and price\n",
    "df['max_priority_fee'] = df.apply(lambda x: x['max_priority_fee_per_gas'] if x['type']==2 else x['max_priority_fee_imputed'], axis=1)\n",
    "df.head(10)"
   ]
  },
  {
   "cell_type": "markdown",
   "metadata": {
    "id": "s8tKqjPI4phg"
   },
   "source": [
    "## Get blob data"
   ]
  },
  {
   "cell_type": "code",
   "execution_count": null,
   "metadata": {
    "id": "k6Q73wJQMaCx"
   },
   "outputs": [],
   "source": [
    "df['gas_used_calldata'] = df.apply(lambda x: 16*x['data_bytes'], axis=1)"
   ]
  },
  {
   "cell_type": "code",
   "execution_count": null,
   "metadata": {
    "colab": {
     "base_uri": "https://localhost:8080/",
     "height": 206
    },
    "id": "qN1D8kCZOUKY",
    "outputId": "98eebb7a-2517-447a-c889-cab5c9a01f75"
   },
   "outputs": [],
   "source": [
    "dfo = df[['block_number', 'index', 'gas_used', 'max_fee', 'max_priority_fee', 'base_fee', 'data_tag', 'data_bytes', 'gas_used_calldata']].copy()\n",
    "dfo.head()"
   ]
  },
  {
   "cell_type": "code",
   "execution_count": null,
   "metadata": {
    "colab": {
     "base_uri": "https://localhost:8080/",
     "height": 238
    },
    "id": "Kx7ogWWAWI68",
    "outputId": "e5be92b6-9632-44ad-9ba2-77dd90d9879f"
   },
   "outputs": [],
   "source": [
    "dfo[dfo['data_tag']=='arb_data'].describe(percentiles=[0.5])"
   ]
  },
  {
   "cell_type": "code",
   "execution_count": null,
   "metadata": {
    "colab": {
     "base_uri": "https://localhost:8080/"
    },
    "id": "SWhN8mvYZFjI",
    "outputId": "7f7f5164-2d17-4e0f-a048-3233701609b3"
   },
   "outputs": [],
   "source": [
    "dfo[dfo['data_tag']=='arb_data'].sort_values('block_number')['block_number'].drop_duplicates().diff().describe(percentiles=[0.5])"
   ]
  },
  {
   "cell_type": "code",
   "execution_count": null,
   "metadata": {
    "colab": {
     "base_uri": "https://localhost:8080/",
     "height": 238
    },
    "id": "LsQz2oaPWh9q",
    "outputId": "2a3dee92-d7bf-4565-a720-49af86d51747"
   },
   "outputs": [],
   "source": [
    "dfo[dfo['data_tag']=='op_data'].describe(percentiles=[0.5])"
   ]
  },
  {
   "cell_type": "code",
   "execution_count": null,
   "metadata": {
    "colab": {
     "base_uri": "https://localhost:8080/"
    },
    "id": "LAzmOAGbZomL",
    "outputId": "ed8747f6-bdac-40d6-ab0e-b4fe550cf8f9"
   },
   "outputs": [],
   "source": [
    "dfo[dfo['data_tag']=='op_data'].sort_values('block_number')['block_number'].drop_duplicates().diff().describe(percentiles=[0.5])"
   ]
  },
  {
   "cell_type": "code",
   "execution_count": null,
   "metadata": {
    "id": "TDOsfHrzQwPt"
   },
   "outputs": [],
   "source": [
    "dfo.to_csv('4844-sample.csv', index=False)"
   ]
  },
  {
   "cell_type": "code",
   "execution_count": null,
   "metadata": {
    "id": "9VrF2EjzwR0q"
   },
   "outputs": [],
   "source": []
  }
 ],
 "metadata": {
  "colab": {
   "cell_execution_strategy": "setup",
   "collapsed_sections": [
    "pj42soltXW_H"
   ],
   "provenance": []
  },
  "kernelspec": {
   "display_name": "Python 3 (ipykernel)",
   "language": "python",
   "name": "python3"
  },
  "language_info": {
   "codemirror_mode": {
    "name": "ipython",
    "version": 3
   },
   "file_extension": ".py",
   "mimetype": "text/x-python",
   "name": "python",
   "nbconvert_exporter": "python",
   "pygments_lexer": "ipython3",
   "version": "3.9.8"
  }
 },
 "nbformat": 4,
 "nbformat_minor": 1
}
